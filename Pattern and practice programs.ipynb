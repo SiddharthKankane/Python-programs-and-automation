{
 "cells": [
  {
   "cell_type": "code",
   "execution_count": 2,
   "metadata": {},
   "outputs": [
    {
     "name": "stdout",
     "output_type": "stream",
     "text": [
      "5\n",
      "A\n",
      "BC\n",
      "CDE\n",
      "DEFG\n",
      "EFGHI\n"
     ]
    }
   ],
   "source": [
    "num=int(input())\n",
    "for i in range(num):\n",
    "    startchar=chr(ord('A')+i)\n",
    "    for j in range(i+1):\n",
    "        print(chr(ord(startchar)+j),end='')\n",
    "    print()"
   ]
  },
  {
   "cell_type": "code",
   "execution_count": 1,
   "metadata": {},
   "outputs": [
    {
     "name": "stdout",
     "output_type": "stream",
     "text": [
      "5\n",
      "E\n",
      "DE\n",
      "CDE\n",
      "BCDE\n",
      "ABCDE\n"
     ]
    }
   ],
   "source": [
    "num=int(input())\n",
    "for i in range(num):\n",
    "    startchar=chr(ord('A')+num-1)\n",
    "    for j in range(i+1):\n",
    "        print(chr(ord(startchar)-i+j),end='')\n",
    "    print()"
   ]
  },
  {
   "cell_type": "code",
   "execution_count": 4,
   "metadata": {},
   "outputs": [
    {
     "name": "stdout",
     "output_type": "stream",
     "text": [
      "5\n",
      "1\n",
      "11\n",
      "202\n",
      "3003\n",
      "40004\n"
     ]
    }
   ],
   "source": [
    "n=int(input())\n",
    "for i in range(n):\n",
    "    for j in range(i+1):\n",
    "        if i==0:\n",
    "            print(1,end='')\n",
    "        elif j==0 or j==i:\n",
    "            print(i,end='')\n",
    "        else:\n",
    "            print(0, end='')\n",
    "    print()"
   ]
  },
  {
   "cell_type": "code",
   "execution_count": 5,
   "metadata": {},
   "outputs": [
    {
     "name": "stdout",
     "output_type": "stream",
     "text": [
      "5\n",
      "1\n",
      "11\n",
      "121\n",
      "1221\n",
      "12221\n"
     ]
    }
   ],
   "source": [
    "n=int(input())\n",
    "for i in range(n):\n",
    "    for j in range(i+1):\n",
    "        if i==0:\n",
    "            print(1,end='')\n",
    "        elif j==0 or j==i:\n",
    "            print(1,end='')\n",
    "        else:\n",
    "            print(2, end='')\n",
    "    print()"
   ]
  },
  {
   "cell_type": "code",
   "execution_count": 2,
   "metadata": {},
   "outputs": [
    {
     "name": "stdout",
     "output_type": "stream",
     "text": [
      "4\n",
      "A\n",
      "BB\n",
      "CCC\n",
      "DDDD\n"
     ]
    }
   ],
   "source": [
    "num=int(input())\n",
    "for i in range(num):\n",
    "    startchar=chr(ord('A')+i)\n",
    "    for j in range(i+1):\n",
    "        print(chr(ord(startchar)),end='')\n",
    "    print()"
   ]
  },
  {
   "cell_type": "code",
   "execution_count": 2,
   "metadata": {},
   "outputs": [
    {
     "name": "stdout",
     "output_type": "stream",
     "text": [
      "5\n",
      "    1\n",
      "   23\n",
      "  345\n",
      " 4567\n",
      "56789\n"
     ]
    }
   ],
   "source": [
    "num=int(input())\n",
    "for i in range(1,num+1):\n",
    "    for k in range(num-i,0,-1):\n",
    "        print(' ',end='')\n",
    "    for j in range(i):\n",
    "        print(i+j,end='')\n",
    "    print()"
   ]
  },
  {
   "cell_type": "code",
   "execution_count": 9,
   "metadata": {},
   "outputs": [
    {
     "name": "stdout",
     "output_type": "stream",
     "text": [
      "5\n",
      "    1\n",
      "   12\n",
      "  123\n",
      " 1234\n",
      "12345\n"
     ]
    }
   ],
   "source": [
    "n=int(input())\n",
    "for i in range(1,n+1):\n",
    "    for k in range(n-i,0,-1):\n",
    "        print(' ',end='')\n",
    "    for j in range(1,i+1):\n",
    "        print(j,end='')\n",
    "    print()"
   ]
  },
  {
   "cell_type": "code",
   "execution_count": 4,
   "metadata": {},
   "outputs": [
    {
     "name": "stdout",
     "output_type": "stream",
     "text": [
      "5\n",
      "B\n",
      "CB\n",
      "DCB\n",
      "EDCB\n",
      "FEDCB\n"
     ]
    }
   ],
   "source": [
    "num=int(input())\n",
    "for i in range(1,num+1):\n",
    "    startchar=chr(ord('A'))\n",
    "    for j in range(i,0,-1):\n",
    "        print(chr(ord(startchar)+j),end='')\n",
    "    print()"
   ]
  },
  {
   "cell_type": "code",
   "execution_count": 11,
   "metadata": {},
   "outputs": [
    {
     "name": "stdout",
     "output_type": "stream",
     "text": [
      "5\n",
      "    1\n",
      "   232\n",
      "  34543\n",
      " 4567654\n",
      "567898765\n"
     ]
    }
   ],
   "source": [
    "num=int(input())\n",
    "for i in range(1,num+1):\n",
    "    for k in range(num-i,0,-1):\n",
    "        print(' ',end='')\n",
    "    for j in range(i):\n",
    "        print(i+j,end='')\n",
    "    p=i*2\n",
    "    for j in range(1,i):\n",
    "        print(p-j-1,end='')\n",
    "    print()"
   ]
  },
  {
   "cell_type": "code",
   "execution_count": 13,
   "metadata": {},
   "outputs": [
    {
     "name": "stdout",
     "output_type": "stream",
     "text": [
      "7\n",
      "   *\n",
      "  ***\n",
      " *****\n",
      "*******\n",
      " *****\n",
      "  ***\n",
      "   *\n"
     ]
    }
   ],
   "source": [
    "n=int(input())\n",
    "if n%2!=0:\n",
    "    for i in range(1,n//2+2):\n",
    "        for k in range(n//2+1-i,0,-1):\n",
    "            print(' ',end='')\n",
    "        for j in range(i):\n",
    "            print('*',end='')\n",
    "        for j in range(1,i):\n",
    "            print('*',end='')\n",
    "        print()\n",
    "\n",
    "    k=1\n",
    "    l=2\n",
    "    for i in range(n//2+2,n+1):\n",
    "        for j in range(1,k+1):\n",
    "            print(' ',end='')\n",
    "        k=k+1\n",
    "        for j in range(n-l,0,-1):\n",
    "            print('*',end='')\n",
    "        l=l+2\n",
    "        print()"
   ]
  },
  {
   "cell_type": "code",
   "execution_count": 15,
   "metadata": {},
   "outputs": [
    {
     "name": "stdout",
     "output_type": "stream",
     "text": [
      "7\n",
      " *****\n",
      "  ***\n",
      "   *\n"
     ]
    }
   ],
   "source": [
    "n=int(input())\n",
    "k=1\n",
    "l=2\n",
    "for i in range(n//2+2,n+1):\n",
    "    for j in range(1,k+1):\n",
    "        print(' ',end='')\n",
    "    k=k+1\n",
    "    for j in range(n-l,0,-1):\n",
    "        print('*',end='')\n",
    "    l=l+2\n",
    "    print()"
   ]
  },
  {
   "cell_type": "code",
   "execution_count": 17,
   "metadata": {},
   "outputs": [
    {
     "name": "stdout",
     "output_type": "stream",
     "text": [
      "8\n",
      "88888888\n",
      "7777777\n",
      "666666\n",
      "55555\n",
      "4444\n",
      "333\n",
      "22\n",
      "1\n"
     ]
    }
   ],
   "source": [
    "n=int(input())\n",
    "for i in range(n,0,-1):\n",
    "    for j in range(i):\n",
    "        print(i,end='')\n",
    "    print()"
   ]
  },
  {
   "cell_type": "code",
   "execution_count": 18,
   "metadata": {},
   "outputs": [
    {
     "name": "stdout",
     "output_type": "stream",
     "text": [
      "7\n",
      "1            1\n",
      "12          21\n",
      "123        321\n",
      "1234      4321\n",
      "12345    54321\n",
      "123456  654321\n",
      "12345677654321\n"
     ]
    }
   ],
   "source": [
    "n=int(input())\n",
    "for i in range(1,n+1):\n",
    "    for j in range(1,i+1):\n",
    "        print(j,end='')\n",
    "    for k in range(2*n-i+1,i+1,-1):\n",
    "        print(' ',end='')\n",
    "    for j in range(i,0,-1):\n",
    "        print(j,end='')\n",
    "    print()"
   ]
  },
  {
   "cell_type": "code",
   "execution_count": 19,
   "metadata": {},
   "outputs": [
    {
     "name": "stdout",
     "output_type": "stream",
     "text": [
      "5\n",
      "1\n",
      "12\n",
      "123\n",
      "1234\n",
      "12345\n"
     ]
    }
   ],
   "source": [
    "n=int(input())\n",
    "for i in range(1,n+1):\n",
    "    for j in range(1,i+1):\n",
    "        print(j,end='')\n",
    "    print()"
   ]
  },
  {
   "cell_type": "code",
   "execution_count": 20,
   "metadata": {},
   "outputs": [
    {
     "name": "stdout",
     "output_type": "stream",
     "text": [
      "5\n",
      "1\n",
      "21\n",
      "321\n",
      "4321\n",
      "54321\n"
     ]
    }
   ],
   "source": [
    "n=int(input())\n",
    "for i in range(1,n+1):\n",
    "    for j in range(i,0,-1):\n",
    "        print(j,end='')\n",
    "    print()"
   ]
  },
  {
   "cell_type": "code",
   "execution_count": 21,
   "metadata": {},
   "outputs": [
    {
     "name": "stdout",
     "output_type": "stream",
     "text": [
      "5\n",
      "*\n",
      " **\n",
      "  ***\n",
      "   ****\n",
      "    *****\n"
     ]
    }
   ],
   "source": [
    "n=int(input())\n",
    "for i in range(1,n+1):\n",
    "    for k in range(i-1,0,-1):\n",
    "        print(' ',end='')\n",
    "    for j in range(i):\n",
    "        print('*',end='')\n",
    "    print()"
   ]
  },
  {
   "cell_type": "code",
   "execution_count": 22,
   "metadata": {},
   "outputs": [
    {
     "name": "stdout",
     "output_type": "stream",
     "text": [
      "5\n",
      "    1\n",
      "   212\n",
      "  32123\n",
      " 4321234\n",
      "543212345\n"
     ]
    }
   ],
   "source": [
    "n=int(input())\n",
    "for i in range(1,n+1):\n",
    "    for k in range(n-i,0,-1):\n",
    "        print(' ',end='')\n",
    "    for j in range(i,0,-1):\n",
    "        print(j,end='')\n",
    "    for j in range(2,i+1):\n",
    "        print(j,end='')\n",
    "    print()"
   ]
  },
  {
   "cell_type": "code",
   "execution_count": 23,
   "metadata": {},
   "outputs": [
    {
     "name": "stdout",
     "output_type": "stream",
     "text": [
      "5\n",
      "2\n",
      "23\n",
      "234\n",
      "2345\n"
     ]
    }
   ],
   "source": [
    "n=int(input())\n",
    "for i in range(2,n+1):\n",
    "    for j in range(2,i+1):\n",
    "        print(j,end='')\n",
    "    print()"
   ]
  },
  {
   "cell_type": "code",
   "execution_count": 24,
   "metadata": {},
   "outputs": [
    {
     "name": "stdout",
     "output_type": "stream",
     "text": [
      "5\n",
      "*\n",
      " ***\n",
      "  *****\n",
      " ***\n",
      "*\n"
     ]
    }
   ],
   "source": [
    "n=int(input())\n",
    "for i in range(1,n//2+2):\n",
    "    for k in range(i-1,0,-1):\n",
    "        print(' ',end='')\n",
    "    for j in range(i):\n",
    "        print('*',end='')\n",
    "    for j in range(1,i):\n",
    "        print('*',end='')\n",
    "    print()\n",
    "    \n",
    "k=n//2\n",
    "l=2\n",
    "for i in range(n//2+2,n+1):\n",
    "    for j in range(k-1,0,-1):\n",
    "        print(' ',end='')\n",
    "    k=k-1\n",
    "    for j in range(n-l,0,-1):\n",
    "        print('*',end='')\n",
    "    l=l+2\n",
    "    print()"
   ]
  },
  {
   "cell_type": "code",
   "execution_count": 25,
   "metadata": {},
   "outputs": [
    {
     "name": "stdout",
     "output_type": "stream",
     "text": [
      "7\n",
      "* \n",
      " * * \n",
      "  * * * \n",
      "   * * * * \n",
      "  * * * \n",
      " * * \n",
      "* \n"
     ]
    }
   ],
   "source": [
    "n=int(input())\n",
    "for i in range(1,n//2+2):\n",
    "    for k in range(i-1,0,-1):\n",
    "        print(' ',end='')\n",
    "    for j in range(i):\n",
    "        print('* ',end='')\n",
    "    print()\n",
    "    \n",
    "k=n//2\n",
    "l=0\n",
    "for i in range(n//2+2,n+1):\n",
    "    for j in range(k-1,0,-1):\n",
    "        print(' ',end='')\n",
    "    k=k-1\n",
    "    for j in range(n//2-l,0,-1):\n",
    "        print('* ',end='')\n",
    "    l=l+1\n",
    "    print()"
   ]
  },
  {
   "cell_type": "code",
   "execution_count": 26,
   "metadata": {},
   "outputs": [
    {
     "name": "stdout",
     "output_type": "stream",
     "text": [
      "7\n",
      "  * * * \n",
      " * * \n",
      "* \n"
     ]
    }
   ],
   "source": [
    "n=int(input())\n",
    "k=n//2\n",
    "l=0\n",
    "for i in range(n//2+2,n+1):\n",
    "    for j in range(k-1,0,-1):\n",
    "        print(' ',end='')\n",
    "    k=k-1\n",
    "    for j in range(n//2-l,0,-1):\n",
    "        print('* ',end='')\n",
    "    l=l+1\n",
    "    print()"
   ]
  },
  {
   "cell_type": "code",
   "execution_count": 28,
   "metadata": {},
   "outputs": [
    {
     "name": "stdout",
     "output_type": "stream",
     "text": [
      "7\n",
      "*000000*000000*\n",
      "0*00000*00000*0\n",
      "00*0000*0000*00\n",
      "000*000*000*000\n",
      "0000*00*00*0000\n",
      "00000*0*0*00000\n",
      "000000***000000\n"
     ]
    }
   ],
   "source": [
    "num=int(input())\n",
    "for i in range(1,num+1):\n",
    "    for j in range(1,num+2):\n",
    "        if j==i or j==num+1:\n",
    "            print('*',end='')\n",
    "        else:\n",
    "            print('0',end='')\n",
    "\n",
    "    for j in range((2*num//2)+1,2*num+1):\n",
    "        if j==(2*num)+1-i:\n",
    "            print('*',end='')\n",
    "        else:\n",
    "            print('0',end='')\n",
    "    print()"
   ]
  },
  {
   "cell_type": "code",
   "execution_count": 29,
   "metadata": {},
   "outputs": [
    {
     "name": "stdout",
     "output_type": "stream",
     "text": [
      "5\n",
      "0000* \n",
      "000*0 \n",
      "00*00 \n",
      "0*000 \n",
      "*0000 \n"
     ]
    }
   ],
   "source": [
    "num=int(input())\n",
    "for i in range(num,0,-1):\n",
    "    for j in range(1,num+1):\n",
    "        if j==i:\n",
    "            print('*',end='')\n",
    "        else:\n",
    "            print('0',end='')\n",
    "    print(' ')"
   ]
  },
  {
   "cell_type": "code",
   "execution_count": 31,
   "metadata": {},
   "outputs": [
    {
     "name": "stdout",
     "output_type": "stream",
     "text": [
      "7\n",
      "1111111\n",
      "000000\n",
      "11111\n",
      "0000\n",
      "111\n",
      "00\n",
      "1\n"
     ]
    }
   ],
   "source": [
    "n=int(input())\n",
    "for i in range(1,n+1):\n",
    "    for j in range(n-i+1,0,-1):\n",
    "        if (i%2==0):\n",
    "            print('0',end='')\n",
    "        else:\n",
    "            print('1',end='')\n",
    "    print()"
   ]
  },
  {
   "cell_type": "code",
   "execution_count": 32,
   "metadata": {},
   "outputs": [
    {
     "name": "stdout",
     "output_type": "stream",
     "text": [
      "7\n",
      "1234567\n",
      " 234567\n",
      "  34567\n",
      "   4567\n",
      "    567\n",
      "     67\n",
      "      7\n",
      "     67\n",
      "    567\n",
      "   4567\n",
      "  34567\n",
      " 234567\n",
      "1234567\n"
     ]
    }
   ],
   "source": [
    "n=int(input())\n",
    "for i in range(1,n+1):\n",
    "    for k in range(i-1,0,-1):\n",
    "        print(' ',end='')\n",
    "    for j in range(i,n+1):\n",
    "        print(j,end='')\n",
    "    print()\n",
    "    \n",
    "for i in range(n,1,-1):\n",
    "    for k in range(i-2,0,-1):\n",
    "        print(' ',end='')\n",
    "    for j in range(i-1,n+1):\n",
    "        print(j,end='')\n",
    "    print()"
   ]
  },
  {
   "cell_type": "code",
   "execution_count": 33,
   "metadata": {},
   "outputs": [
    {
     "name": "stdout",
     "output_type": "stream",
     "text": [
      "5\n",
      "   45\n",
      "  345\n",
      " 2345\n",
      "12345\n"
     ]
    }
   ],
   "source": [
    "n=int(input())\n",
    "for i in range(n,1,-1):\n",
    "    for k in range(i-2,0,-1):\n",
    "        print(' ',end='')\n",
    "    for j in range(i-1,n+1):\n",
    "        print(j,end='')\n",
    "    print()"
   ]
  },
  {
   "cell_type": "code",
   "execution_count": 34,
   "metadata": {},
   "outputs": [
    {
     "name": "stdout",
     "output_type": "stream",
     "text": [
      "12451245"
     ]
    }
   ],
   "source": [
    "i=1\n",
    "while i<3:\n",
    "    j=0\n",
    "    while j<5:\n",
    "        j = j +1\n",
    "        if j==3:\n",
    "            continue\n",
    "        print(j,end='')\n",
    "    i = i +1"
   ]
  },
  {
   "cell_type": "code",
   "execution_count": 35,
   "metadata": {},
   "outputs": [
    {
     "name": "stdout",
     "output_type": "stream",
     "text": [
      "5\n",
      "55555\n",
      "44444\n",
      "33333\n",
      "22222\n",
      "11111\n"
     ]
    }
   ],
   "source": [
    "n=int(input())\n",
    "for i in range(n,0,-1):\n",
    "    for j in range(n,0,-1):    \n",
    "        print(i, end='')\n",
    "    print()"
   ]
  },
  {
   "cell_type": "code",
   "execution_count": 36,
   "metadata": {},
   "outputs": [
    {
     "name": "stdout",
     "output_type": "stream",
     "text": [
      "5\n",
      "555555555\n",
      "544444445\n",
      "543333345\n",
      "543222345\n",
      "543212345\n",
      "543222345\n",
      "543333345\n",
      "544444445\n",
      "555555555\n"
     ]
    }
   ],
   "source": [
    "n=int(input())\n",
    "for i in range(1,n+1):\n",
    "    for j in range(1,n+1):\n",
    "        if i<j:\n",
    "            print(n-i+1, end='')\n",
    "        else:\n",
    "            print(n-j+1, end='')\n",
    "        \n",
    "    for j in range(n-1,0,-1):\n",
    "        if i<j:\n",
    "            print(n-i+1, end='')\n",
    "        else:\n",
    "            print(n-j+1, end='')\n",
    "    print()\n",
    "\n",
    "for i in range(n-1,0,-1):\n",
    "    for j in range(1,n+1):\n",
    "        if i<j:\n",
    "            print(n-i+1, end='')\n",
    "        else:\n",
    "            print(n-j+1, end='')\n",
    "        \n",
    "    for j in range(n-1,0,-1):\n",
    "        if i<j:\n",
    "            print(n-i+1, end='')\n",
    "        else:\n",
    "            print(n-j+1, end='')\n",
    "    print()"
   ]
  },
  {
   "cell_type": "code",
   "execution_count": 37,
   "metadata": {},
   "outputs": [
    {
     "name": "stdout",
     "output_type": "stream",
     "text": [
      "5\n",
      "1 2 3 4 5 \n",
      "11 12 13 14 15 \n",
      "21 22 23 24 25 \n",
      "16 17 18 19 20 \n",
      "6 7 8 9 10 \n"
     ]
    }
   ],
   "source": [
    "n=int(input())\n",
    "k=0\n",
    "if n%2==0:\n",
    "    l=n//2+1\n",
    "else:\n",
    "    l=n//2+2\n",
    "    \n",
    "for i in range(1,l):\n",
    "    for j in range(1,n+1):\n",
    "        print(\"{} \".format(j+(k*2*n)),end='')\n",
    "    k=k+1\n",
    "    print()\n",
    "    \n",
    "m=n//2-1\n",
    "for i in range(l,n+1):\n",
    "    for j in range(1,n+1):\n",
    "        print(\"{} \".format(j+n+(m*2*n)),end='')\n",
    "    m=m-1\n",
    "    print()  "
   ]
  },
  {
   "cell_type": "code",
   "execution_count": 38,
   "metadata": {},
   "outputs": [
    {
     "name": "stdout",
     "output_type": "stream",
     "text": [
      "5\n",
      "1617181920\n",
      "678910\n"
     ]
    }
   ],
   "source": [
    "n=int(input())\n",
    "if n%2==0:\n",
    "    l=n//2+1\n",
    "else:\n",
    "    l=n//2+2\n",
    "m=n//2-1\n",
    "for i in range(l,n+1):\n",
    "    for j in range(1,n+1):\n",
    "        print(j+n+(m*2*n),end='')\n",
    "    m=m-1\n",
    "    print()"
   ]
  },
  {
   "cell_type": "code",
   "execution_count": 41,
   "metadata": {},
   "outputs": [
    {
     "name": "stdout",
     "output_type": "stream",
     "text": [
      "5\n",
      "5\n"
     ]
    }
   ],
   "source": [
    "n=int(input())\n",
    "if n>=1 and n<=25:\n",
    "    count=1\n",
    "    sum=0\n",
    "    a=0\n",
    "    b=1\n",
    "    while count!=n:\n",
    "        sum=a+b\n",
    "        a=b\n",
    "        b=sum\n",
    "        count=count+1\n",
    "print(sum)"
   ]
  },
  {
   "cell_type": "code",
   "execution_count": 4,
   "metadata": {},
   "outputs": [
    {
     "name": "stdout",
     "output_type": "stream",
     "text": [
      "5\n",
      "true\n"
     ]
    }
   ],
   "source": [
    "def checkPalindrome(num):\n",
    "    n=num\n",
    "    rev=0\n",
    "    status=0\n",
    "    while num!=0:\n",
    "        rev = (rev * 10) + (num % 10) \n",
    "        num //= 10\n",
    "    return rev==n\n",
    "\t\t\n",
    "num = int(input())\n",
    "isPalindrome = checkPalindrome(num)\n",
    "if(isPalindrome):\n",
    "\tprint('true')\n",
    "else:\n",
    "\tprint('false')"
   ]
  },
  {
   "cell_type": "code",
   "execution_count": 42,
   "metadata": {},
   "outputs": [
    {
     "name": "stdout",
     "output_type": "stream",
     "text": [
      "5\n",
      "true\n"
     ]
    }
   ],
   "source": [
    "def checkMember(n):\n",
    "    a=0\n",
    "    b=1\n",
    "    sum=0\n",
    "    count=1\n",
    "    while sum != n and sum<n:\n",
    "        sum=a+b\n",
    "        a=b\n",
    "        b=sum\n",
    "        if sum==n:\n",
    "            return True\n",
    "            break\n",
    "        \n",
    "    return False\n",
    "\n",
    "n=int(input())\n",
    "if(checkMember(n)):\n",
    "    print(\"true\")\n",
    "else:\n",
    "    print(\"false\")"
   ]
  },
  {
   "cell_type": "code",
   "execution_count": null,
   "metadata": {},
   "outputs": [],
   "source": [
    "def checkArmstrong(num):\n",
    "    n=num\n",
    "    a=count(n)\n",
    "    temp=num\n",
    "    digit=0\n",
    "    sum=0\n",
    "    while temp!=0:\n",
    "        digit=temp%10\n",
    "        sum += digit**a\n",
    "        temp //=10\n",
    "    return sum==num\n",
    "    \n",
    "def count(n):\n",
    "    cnt=0\n",
    "    while n!=0:\n",
    "        cnt +=1\n",
    "        n=n//10\n",
    "    return cnt\n",
    "\n",
    "\n",
    "num=int(input())\n",
    "isArmstrong = checkArmstrong(num)\n",
    "if(isArmstrong):\n",
    "\tprint('true')\n",
    "else:\n",
    "\tprint('false')"
   ]
  },
  {
   "cell_type": "code",
   "execution_count": null,
   "metadata": {},
   "outputs": [],
   "source": [
    "num=int(input())\n",
    "lt=[]\n",
    "for a in range(num):\n",
    "    n=int(input().split())\n",
    "    lt.append(n)\n",
    "    print(end='')\n",
    "    \n",
    "print(sum(lt))"
   ]
  },
  {
   "cell_type": "code",
   "execution_count": 5,
   "metadata": {},
   "outputs": [
    {
     "name": "stdout",
     "output_type": "stream",
     "text": [
      "5\n",
      "5 6 7 8 9 6\n",
      "35\n"
     ]
    }
   ],
   "source": [
    "n = int(input())\n",
    "a = list(map(int,input().strip().split()))[:n] \n",
    "print(sum(a))"
   ]
  },
  {
   "cell_type": "code",
   "execution_count": 3,
   "metadata": {},
   "outputs": [
    {
     "name": "stdout",
     "output_type": "stream",
     "text": [
      "6\n",
      "1 3 5 7 8 3\n",
      "27\n"
     ]
    }
   ],
   "source": [
    "n = int(input())\n",
    "arr = [int(arr_temp) for arr_temp in input().strip().split(' ')][:n]\n",
    "print(sum(arr))"
   ]
  },
  {
   "cell_type": "code",
   "execution_count": null,
   "metadata": {},
   "outputs": [],
   "source": [
    "from sys import stdin\n",
    "\n",
    "def swapAlternate(arr, n) :\n",
    "    #Your code goes here\n",
    "    if n%2==0:\n",
    "        l=n\n",
    "    else:\n",
    "        l=n-1\n",
    "\n",
    "    for i in range(0,l,2):  \n",
    "        arr[i], arr[i+1] = arr[i+1], a[i]\n",
    "\n",
    "#Taking Input Using Fast I/O\n",
    "def takeInput() :\n",
    "    n = int(input())\n",
    "\n",
    "    if n == 0 :\n",
    "        return list(), 0\n",
    "\n",
    "    arr = list(map(int,input().strip().split()))\n",
    "    return arr, n\n",
    "\n",
    "\n",
    "#Printing the array/list\n",
    "def printList(arr, n) :\n",
    "    for i in range(n) :\n",
    "        print(arr[i], end = \" \")\n",
    "    print()\n",
    "\n",
    "\n",
    "#main\n",
    "t = int(input())\n",
    "\n",
    "while t > 0 :\n",
    "    arr, n = takeInput()\n",
    "    if n != 0 :\n",
    "        swapAlternate(arr, n)\n",
    "        printList(arr, n)\n",
    "    t -= 1"
   ]
  },
  {
   "cell_type": "code",
   "execution_count": null,
   "metadata": {},
   "outputs": [],
   "source": [
    "a.reverse()"
   ]
  },
  {
   "cell_type": "code",
   "execution_count": null,
   "metadata": {},
   "outputs": [],
   "source": [
    "a"
   ]
  },
  {
   "cell_type": "code",
   "execution_count": null,
   "metadata": {},
   "outputs": [],
   "source": [
    "def findUnique(arr, n):\n",
    "    a=[]\n",
    "    if s(arr,n):\n",
    "        if n%2!=0:\n",
    "            for i in arr:\n",
    "                if i not in a:\n",
    "                    a.append(i)\n",
    "                else:\n",
    "                    a.remove(i)\n",
    "    return a[0]\n",
    "                    \n",
    "def s(li,num):\n",
    "    if len(li)==num:\n",
    "        return True \n",
    "\n",
    "def takeInput() :\n",
    "    n = int(input())\n",
    "\n",
    "    if n == 0 :\n",
    "        return list(), 0\n",
    "\n",
    "    arr = list(map(int,input().strip().split()))\n",
    "    return arr, n\n",
    "\n",
    "t = int(input())\n",
    "\n",
    "while t > 0 :\n",
    "    arr, n = takeInput()\n",
    "    print(findUnique(arr, n))\n",
    "    t -= 1"
   ]
  },
  {
   "cell_type": "code",
   "execution_count": null,
   "metadata": {},
   "outputs": [],
   "source": [
    "a.remove(4)"
   ]
  },
  {
   "cell_type": "code",
   "execution_count": null,
   "metadata": {},
   "outputs": [],
   "source": [
    "a"
   ]
  },
  {
   "cell_type": "code",
   "execution_count": 18,
   "metadata": {},
   "outputs": [
    {
     "name": "stdout",
     "output_type": "stream",
     "text": [
      "1\n",
      "3\n",
      "2 1 2\n",
      "2\n"
     ]
    }
   ],
   "source": [
    "def duplicateNumber(arr, n):\n",
    "    if s(arr,n):\n",
    "        if n%2!=0:\n",
    "            arr.sort()\n",
    "            for i in arr:\n",
    "                if arr[i]==arr[i+1]:\n",
    "                    return arr[i]\n",
    "                    \n",
    "def s(li,num):\n",
    "    if len(li)==num:\n",
    "        return True \n",
    "\n",
    "def takeInput() :\n",
    "    n = int(input())\n",
    "\n",
    "    if n == 0 :\n",
    "        return list(), 0\n",
    "\n",
    "    arr = list(map(int,input().strip().split()))\n",
    "    return arr, n\n",
    "\n",
    "t = int(input())\n",
    "\n",
    "while t > 0 :\n",
    "    arr, n = takeInput()\n",
    "    print(duplicateNumber(arr, n))\n",
    "    t -= 1"
   ]
  },
  {
   "cell_type": "code",
   "execution_count": 8,
   "metadata": {},
   "outputs": [
    {
     "name": "stdout",
     "output_type": "stream",
     "text": [
      "1\n",
      "3\n",
      "2 3 3\n",
      "5\n",
      "2 3 3 4 4\n",
      "2 3 3 \n"
     ]
    }
   ],
   "source": [
    "def intersections(arr1, n, arr2, m) :\n",
    "    a=[]\n",
    "    if s(arr1,n) and s(arr2,m):\n",
    "        for x in arr2:\n",
    "            if x in arr1:\n",
    "                a.append(x)\n",
    "                arr1.remove(x)\n",
    "    for i in range(len(a)):\n",
    "        print('{} '.format(a[i]),end='')\n",
    "                    \n",
    "def s(li,num):\n",
    "    if len(li)==num:\n",
    "        return True \n",
    "\n",
    "def takeInput() :\n",
    "    n = int(input())\n",
    "\n",
    "    if n == 0 :\n",
    "        return list(), 0\n",
    "\n",
    "    arr = list(map(int,input().strip().split()))\n",
    "    return arr, n\n",
    "\n",
    "t = int(input())\n",
    "\n",
    "while t > 0 :\n",
    "    arr1, n = takeInput()\n",
    "    arr2, m = takeInput()\n",
    "\n",
    "    intersections(arr1, n, arr2, m)\n",
    "    print()\n",
    "\n",
    "    t -= 1"
   ]
  },
  {
   "cell_type": "code",
   "execution_count": 15,
   "metadata": {},
   "outputs": [
    {
     "name": "stdout",
     "output_type": "stream",
     "text": [
      "1\n",
      "3\n",
      "2 3 2\n",
      "4\n",
      "2 3 2 4\n",
      "2 3 2 \n"
     ]
    }
   ],
   "source": [
    "def intersections(arr1, n, arr2, m) :\n",
    "    c=[]\n",
    "    if s(arr1,n) and s(arr2,m):\n",
    "        c = [i for i in arr2 if i in arr1]\n",
    "        #print(C)\n",
    "    \n",
    "    for i in range(len(c)):\n",
    "        print('{} '.format(c[i]),end='')\n",
    "def s(li,num):\n",
    "    if len(li)==num:\n",
    "        return True \n",
    "\n",
    "def takeInput() :\n",
    "    n = int(input())\n",
    "\n",
    "    if n == 0 :\n",
    "        return list(), 0\n",
    "\n",
    "    arr = list(map(int,input().strip().split()))\n",
    "    return arr, n\n",
    "\n",
    "t = int(input())\n",
    "\n",
    "while t > 0 :\n",
    "    arr1, n = takeInput()\n",
    "    arr2, m = takeInput()\n",
    "\n",
    "    intersections(arr1, n, arr2, m)\n",
    "    print()\n",
    "\n",
    "    t -= 1"
   ]
  },
  {
   "cell_type": "code",
   "execution_count": 17,
   "metadata": {},
   "outputs": [
    {
     "name": "stdout",
     "output_type": "stream",
     "text": [
      "1\n",
      "2\n",
      "2 2\n",
      "4\n",
      "2 3 4 2\n",
      "2 2 \n"
     ]
    }
   ],
   "source": [
    "def intersections(arr1, n, arr2, m) :\n",
    "    c=[]\n",
    "    match = {}\n",
    "    if s(arr1,n) and s(arr2,m):\n",
    "        match = {}\n",
    "        for x in arr1:\n",
    "            if x in match:\n",
    "                match[x] += 1\n",
    "            else:\n",
    "                match[x] = 1\n",
    "\n",
    "        for x in arr2:\n",
    "            if x in match:\n",
    "                c.append(x)\n",
    "                match[x] -= 1\n",
    "                if match[x] == 0:\n",
    "                    del match[x]\n",
    "\n",
    "    for i in range(len(c)):\n",
    "        print('{} '.format(c[i]),end='')\n",
    "        \n",
    "        \n",
    "def s(li,num):\n",
    "    if len(li)==num:\n",
    "        return True \n",
    "\n",
    "def takeInput() :\n",
    "    n = int(input())\n",
    "\n",
    "    if n == 0 :\n",
    "        return list(), 0\n",
    "\n",
    "    arr = list(map(int,input().strip().split()))\n",
    "    return arr, n\n",
    "\n",
    "t = int(input())\n",
    "\n",
    "while t > 0 :\n",
    "    arr1, n = takeInput()\n",
    "    arr2, m = takeInput()\n",
    "\n",
    "    intersections(arr1, n, arr2, m)\n",
    "    print()\n",
    "\n",
    "    t -= 1"
   ]
  },
  {
   "cell_type": "code",
   "execution_count": 20,
   "metadata": {},
   "outputs": [
    {
     "name": "stdout",
     "output_type": "stream",
     "text": [
      "1\n",
      "4\n",
      "1 2 3 4\n",
      "5\n",
      "2\n"
     ]
    }
   ],
   "source": [
    "def pairSum(arr, n, x):\n",
    "    count=0\n",
    "    k=0\n",
    "    if s(arr,n):\n",
    "        for i in range(len(arr)-1):\n",
    "            for j in range(i+1,len(arr)):\n",
    "                k=arr[i]+arr[j]\n",
    "                if k==x:\n",
    "                    count +=1\n",
    "    return count\n",
    "\n",
    "def s(li,num):\n",
    "    if len(li)==num:\n",
    "        return True \n",
    "\n",
    "def takeInput() :\n",
    "    n = int(input())\n",
    "\n",
    "    if n == 0 :\n",
    "        return list(), 0\n",
    "\n",
    "    arr = list(map(int,input().strip().split()))\n",
    "    return arr, n\n",
    "\n",
    "t = int(input())\n",
    "\n",
    "while t > 0 :\n",
    "    arr, n = takeInput()\n",
    "    x = int(input())\n",
    "    print(pairSum(arr, n, x))\n",
    "\n",
    "    t -= 1"
   ]
  },
  {
   "cell_type": "code",
   "execution_count": 48,
   "metadata": {},
   "outputs": [
    {
     "name": "stdout",
     "output_type": "stream",
     "text": [
      "1\n",
      "6\n",
      "5 5 4 4 5 4\n",
      "13\n",
      "9\n"
     ]
    }
   ],
   "source": [
    "def findTriplet(arr, n, x) :\n",
    "    #Your code goes here\n",
    "    #return your answer\n",
    "    count=0\n",
    "    k=0\n",
    "    if s(arr,n):\n",
    "        for i in range(len(arr)-2):\n",
    "            for j in range(i+1,len(arr)-1):\n",
    "                k=x-(arr[i]+arr[j])\n",
    "                if k in arr[j+1:] and k>=0:\n",
    "                    for a in range(j+1,n):\n",
    "                        if  k==arr[a]:\n",
    "                            count+=1\n",
    "    return count\n",
    "\n",
    "def s(li,num):\n",
    "    if len(li)==num:\n",
    "        return True\n",
    "\n",
    "\n",
    "\n",
    "\n",
    "#Taking Input Using Fast I/O\n",
    "def takeInput() :\n",
    "    n = int(input())\n",
    "\n",
    "    if n == 0 :\n",
    "        return list(), 0\n",
    "\n",
    "    arr = list(map(int,input().strip().split()))\n",
    "    return arr, n\n",
    "\n",
    "\n",
    "\n",
    "#main\n",
    "t = int(input())\n",
    "\n",
    "while t > 0 :\n",
    "\n",
    "    arr, n = takeInput()\n",
    "    x = int(input())\n",
    "    print(findTriplet(arr, n, x))\n",
    "    t -= 1"
   ]
  },
  {
   "cell_type": "code",
   "execution_count": 54,
   "metadata": {},
   "outputs": [
    {
     "name": "stdout",
     "output_type": "stream",
     "text": [
      "1\n",
      "6\n",
      "5 5 4 4 5 4\n",
      "13\n"
     ]
    },
    {
     "ename": "KeyError",
     "evalue": "5",
     "output_type": "error",
     "traceback": [
      "\u001b[1;31m---------------------------------------------------------------------------\u001b[0m",
      "\u001b[1;31mKeyError\u001b[0m                                  Traceback (most recent call last)",
      "\u001b[1;32m<ipython-input-54-4089f1d76491>\u001b[0m in \u001b[0;36m<module>\u001b[1;34m()\u001b[0m\n\u001b[0;32m     43\u001b[0m     \u001b[0marr\u001b[0m\u001b[1;33m,\u001b[0m \u001b[0mn\u001b[0m \u001b[1;33m=\u001b[0m \u001b[0mtakeInput\u001b[0m\u001b[1;33m(\u001b[0m\u001b[1;33m)\u001b[0m\u001b[1;33m\u001b[0m\u001b[0m\n\u001b[0;32m     44\u001b[0m     \u001b[0mx\u001b[0m \u001b[1;33m=\u001b[0m \u001b[0mint\u001b[0m\u001b[1;33m(\u001b[0m\u001b[0minput\u001b[0m\u001b[1;33m(\u001b[0m\u001b[1;33m)\u001b[0m\u001b[1;33m)\u001b[0m\u001b[1;33m\u001b[0m\u001b[0m\n\u001b[1;32m---> 45\u001b[1;33m     \u001b[0mprint\u001b[0m\u001b[1;33m(\u001b[0m\u001b[0mfindTriplet\u001b[0m\u001b[1;33m(\u001b[0m\u001b[0marr\u001b[0m\u001b[1;33m,\u001b[0m \u001b[0mn\u001b[0m\u001b[1;33m,\u001b[0m \u001b[0mx\u001b[0m\u001b[1;33m)\u001b[0m\u001b[1;33m)\u001b[0m\u001b[1;33m\u001b[0m\u001b[0m\n\u001b[0m\u001b[0;32m     46\u001b[0m     \u001b[0mt\u001b[0m \u001b[1;33m-=\u001b[0m \u001b[1;36m1\u001b[0m\u001b[1;33m\u001b[0m\u001b[0m\n",
      "\u001b[1;32m<ipython-input-54-4089f1d76491>\u001b[0m in \u001b[0;36mfindTriplet\u001b[1;34m(arr, n, x)\u001b[0m\n\u001b[0;32m     14\u001b[0m                 \u001b[0mcount\u001b[0m\u001b[1;33m+=\u001b[0m\u001b[1;36m1\u001b[0m\u001b[1;33m\u001b[0m\u001b[0m\n\u001b[0;32m     15\u001b[0m             \u001b[1;32melse\u001b[0m\u001b[1;33m:\u001b[0m\u001b[1;33m\u001b[0m\u001b[0m\n\u001b[1;32m---> 16\u001b[1;33m                 \u001b[0ms\u001b[0m\u001b[1;33m[\u001b[0m\u001b[0marr\u001b[0m\u001b[1;33m[\u001b[0m\u001b[0mj\u001b[0m\u001b[1;33m]\u001b[0m\u001b[1;33m]\u001b[0m \u001b[1;33m+=\u001b[0m \u001b[1;36m1\u001b[0m\u001b[1;33m\u001b[0m\u001b[0m\n\u001b[0m\u001b[0;32m     17\u001b[0m     \u001b[1;32mreturn\u001b[0m \u001b[0mcount\u001b[0m\u001b[1;33m\u001b[0m\u001b[0m\n\u001b[0;32m     18\u001b[0m \u001b[1;33m\u001b[0m\u001b[0m\n",
      "\u001b[1;31mKeyError\u001b[0m: 5"
     ]
    }
   ],
   "source": [
    "def findTriplet(arr, n, x) :\n",
    "    #Your code goes here\n",
    "    #return your answer\n",
    "    k=0\n",
    "    count=0\n",
    "    for i in range(n - 1): \n",
    "          \n",
    "        # Find all pairs with Sum equals \n",
    "        # to \"Sum-arr[i]\" \n",
    "        s = dict()\n",
    "        for j in range(i + 1, n): \n",
    "            k = x - (arr[i] + arr[j]) \n",
    "            if k in s.keys(): \n",
    "                count+=1 \n",
    "            else: \n",
    "                s[arr[j]] += 1\n",
    "    return count\n",
    "\n",
    "def s(li,num):\n",
    "    if len(li)==num:\n",
    "        return True\n",
    "\n",
    "\n",
    "\n",
    "\n",
    "#Taking Input Using Fast I/O\n",
    "def takeInput() :\n",
    "    n = int(input())\n",
    "\n",
    "    if n == 0 :\n",
    "        return list(), 0\n",
    "\n",
    "    arr = list(map(int,input().strip().split()))\n",
    "    return arr, n\n",
    "\n",
    "\n",
    "\n",
    "#main\n",
    "t = int(input())\n",
    "\n",
    "while t > 0 :\n",
    "\n",
    "    arr, n = takeInput()\n",
    "    x = int(input())\n",
    "    print(findTriplet(arr, n, x))\n",
    "    t -= 1"
   ]
  },
  {
   "cell_type": "code",
   "execution_count": 87,
   "metadata": {},
   "outputs": [
    {
     "name": "stdout",
     "output_type": "stream",
     "text": [
      "1\n",
      "4\n",
      "1 2 3 4\n",
      "4\n",
      "1 2 4 5\n",
      "1 2 4 \n",
      "\n"
     ]
    }
   ],
   "source": [
    "def intersections(arr1, n, arr2, m) :\n",
    "    i1=0\n",
    "    while i1<n:\n",
    "        i2 = 0\n",
    "        while i2<m:\n",
    "            if arr2[i2] == arr1[i1]:\n",
    "                print(arr1[i1], end=\" \")\n",
    "                arr2[i2] = None\n",
    "                break\n",
    "            i2+=1\n",
    "        i1+=1\n",
    "    print()\n",
    "                    \n",
    "def s(li,num):\n",
    "    if len(li)==num:\n",
    "        return True \n",
    "\n",
    "def takeInput() :\n",
    "    n = int(input())\n",
    "\n",
    "    if n == 0 :\n",
    "        return list(), 0\n",
    "\n",
    "    arr = list(map(int,input().strip().split()))\n",
    "    return arr, n\n",
    "\n",
    "t = int(input())\n",
    "\n",
    "while t > 0 :\n",
    "    arr1, n = takeInput()\n",
    "    arr2, m = takeInput()\n",
    "\n",
    "    intersections(arr1, n, arr2, m)\n",
    "    print()\n",
    "\n",
    "    t -= 1"
   ]
  },
  {
   "cell_type": "code",
   "execution_count": 11,
   "metadata": {},
   "outputs": [],
   "source": [
    "a=[1,0,0,1,0,1]"
   ]
  },
  {
   "cell_type": "code",
   "execution_count": 12,
   "metadata": {},
   "outputs": [],
   "source": [
    "a.sort()"
   ]
  },
  {
   "cell_type": "code",
   "execution_count": 13,
   "metadata": {},
   "outputs": [
    {
     "data": {
      "text/plain": [
       "[0, 0, 0, 1, 1, 1]"
      ]
     },
     "execution_count": 13,
     "metadata": {},
     "output_type": "execute_result"
    }
   ],
   "source": [
    "a"
   ]
  },
  {
   "cell_type": "code",
   "execution_count": 23,
   "metadata": {},
   "outputs": [],
   "source": [
    "b.extend(a)"
   ]
  },
  {
   "cell_type": "code",
   "execution_count": 24,
   "metadata": {},
   "outputs": [
    {
     "data": {
      "text/plain": [
       "[1, 1, 2, 2, 3, 3, 4, 4, 5, 5]"
      ]
     },
     "execution_count": 24,
     "metadata": {},
     "output_type": "execute_result"
    }
   ],
   "source": [
    "b"
   ]
  },
  {
   "cell_type": "code",
   "execution_count": 48,
   "metadata": {},
   "outputs": [
    {
     "name": "stdout",
     "output_type": "stream",
     "text": [
      "abc\n",
      "cab\n",
      "true\n"
     ]
    }
   ],
   "source": [
    "arr1=input()\n",
    "arr2=input()\n",
    "count=0\n",
    "if len(arr1)==len(arr2):\n",
    "    i1=0\n",
    "    while i1<len(arr1):\n",
    "        i2 = 0\n",
    "        while i2<len(arr2):\n",
    "            if arr2[i2] == arr1[i1]:\n",
    "                count+=1\n",
    "                arr2=arr2.replace(arr2[i2],'0',1)\n",
    "                break\n",
    "            i2+=1\n",
    "        i1+=1\n",
    "    if count==len(arr1):\n",
    "        print('true')\n",
    "    else:\n",
    "        print('false')"
   ]
  },
  {
   "cell_type": "code",
   "execution_count": 127,
   "metadata": {},
   "outputs": [
    {
     "name": "stdout",
     "output_type": "stream",
     "text": [
      "abcdffggh\n",
      "abcdfgh\n"
     ]
    }
   ],
   "source": [
    "arr=input()\n",
    "newstr=''\n",
    "i=0\n",
    "if len(arr)>=0:\n",
    "    while i<len(arr)-1:\n",
    "        if arr[i]!=arr[i+1]:\n",
    "            newstr=newstr+arr[i]\n",
    "        i=i+1\n",
    "    newstr=newstr+arr[-1]\n",
    "    print(newstr)"
   ]
  },
  {
   "cell_type": "code",
   "execution_count": 114,
   "metadata": {},
   "outputs": [
    {
     "data": {
      "text/plain": [
       "'abcab'"
      ]
     },
     "execution_count": 114,
     "metadata": {},
     "output_type": "execute_result"
    }
   ],
   "source": [
    "newstr + arr[1]"
   ]
  },
  {
   "cell_type": "code",
   "execution_count": 47,
   "metadata": {},
   "outputs": [
    {
     "name": "stdout",
     "output_type": "stream",
     "text": [
      "aabbccdef\n",
      "a\n"
     ]
    }
   ],
   "source": [
    "def remove(x,a):\n",
    "    b=[]\n",
    "    for i in range(len(a)):\n",
    "        if a[i] not in x:\n",
    "            b.append(a[i])\n",
    "    return b\n",
    "\n",
    "arr=input()\n",
    "a=list(arr)\n",
    "a1=[]\n",
    "\n",
    "j=0\n",
    "s=0\n",
    "if len(a)>0:\n",
    "    while len(a)!=0:\n",
    "        count=0\n",
    "        for i in range(len(a)):\n",
    "            if a[j]==a[i]:\n",
    "                count+=1\n",
    "        \n",
    "        if s<count:\n",
    "            s=count\n",
    "            if len(a1)>0:\n",
    "                a1.pop()\n",
    "            a1.append(a[j])\n",
    "        a=remove(a[j],a)\n",
    "    print(a1[0])      "
   ]
  },
  {
   "cell_type": "code",
   "execution_count": 1,
   "metadata": {},
   "outputs": [],
   "source": [
    "arr='Welcome'"
   ]
  },
  {
   "cell_type": "code",
   "execution_count": 7,
   "metadata": {},
   "outputs": [],
   "source": [
    "a=[1, 2, 3, 4, 4]"
   ]
  },
  {
   "cell_type": "code",
   "execution_count": 10,
   "metadata": {},
   "outputs": [
    {
     "data": {
      "text/plain": [
       "[1, 2, 3, 4]"
      ]
     },
     "execution_count": 10,
     "metadata": {},
     "output_type": "execute_result"
    }
   ],
   "source": [
    "a"
   ]
  },
  {
   "cell_type": "code",
   "execution_count": 12,
   "metadata": {},
   "outputs": [
    {
     "data": {
      "text/plain": [
       "7"
      ]
     },
     "execution_count": 12,
     "metadata": {},
     "output_type": "execute_result"
    }
   ],
   "source": [
    "sum(a[2:])"
   ]
  },
  {
   "cell_type": "code",
   "execution_count": 228,
   "metadata": {},
   "outputs": [
    {
     "name": "stdout",
     "output_type": "stream",
     "text": [
      "aaabbccdsa\n",
      "a3b2c2dsa\n"
     ]
    }
   ],
   "source": [
    "arr=input()\n",
    "a=list(arr)\n",
    "a1=''\n",
    "j=0\n",
    "if len(a)>0:\n",
    "    count=0\n",
    "    for i in range(len(a)):\n",
    "        if a[j]==a[i]:\n",
    "            count+=1\n",
    "        else:\n",
    "            a1=a1+a[j]\n",
    "            if count>1:\n",
    "                a1=a1+str(count)\n",
    "            count=1\n",
    "            j=i\n",
    "    a1=a1+a[j]\n",
    "    if count>1:\n",
    "        a1=a1+str(count)\n",
    "    print(a1)   "
   ]
  },
  {
   "cell_type": "code",
   "execution_count": 212,
   "metadata": {},
   "outputs": [
    {
     "data": {
      "text/plain": [
       "[1]"
      ]
     },
     "execution_count": 212,
     "metadata": {},
     "output_type": "execute_result"
    }
   ],
   "source": [
    "a3b2c2dsa"
   ]
  },
  {
   "cell_type": "code",
   "execution_count": 145,
   "metadata": {},
   "outputs": [
    {
     "data": {
      "text/plain": [
       "['Ninjas',\n",
       " ['Ninjas',\n",
       "  'Coding',\n",
       "  ['Ninjas', 'Coding', 'to', ['Ninjas', 'Coding', 'to', 'Welcome']],\n",
       "  ['Ninjas', 'Coding', 'to', 'Welcome']],\n",
       " ['Ninjas', 'Coding', 'to', ['Ninjas', 'Coding', 'to', 'Welcome']],\n",
       " ['Ninjas', 'Coding', 'to', 'Welcome']]"
      ]
     },
     "execution_count": 145,
     "metadata": {},
     "output_type": "execute_result"
    }
   ],
   "source": [
    "i"
   ]
  },
  {
   "cell_type": "code",
   "execution_count": 10,
   "metadata": {},
   "outputs": [],
   "source": [
    "a1=set()"
   ]
  },
  {
   "cell_type": "code",
   "execution_count": 94,
   "metadata": {},
   "outputs": [
    {
     "ename": "IndexError",
     "evalue": "list index out of range",
     "output_type": "error",
     "traceback": [
      "\u001b[1;31m---------------------------------------------------------------------------\u001b[0m",
      "\u001b[1;31mIndexError\u001b[0m                                Traceback (most recent call last)",
      "\u001b[1;32m<ipython-input-94-7dcef26a8f24>\u001b[0m in \u001b[0;36m<module>\u001b[1;34m()\u001b[0m\n\u001b[1;32m----> 1\u001b[1;33m \u001b[0mmat\u001b[0m \u001b[1;33m=\u001b[0m \u001b[1;33m[\u001b[0m\u001b[0mlist\u001b[0m\u001b[1;33m(\u001b[0m\u001b[0mmap\u001b[0m\u001b[1;33m(\u001b[0m\u001b[0mint\u001b[0m\u001b[1;33m,\u001b[0m \u001b[0minput\u001b[0m\u001b[1;33m(\u001b[0m\u001b[1;33m)\u001b[0m\u001b[1;33m.\u001b[0m\u001b[0msplit\u001b[0m\u001b[1;33m(\u001b[0m\u001b[1;34m\" \"\u001b[0m\u001b[1;33m)\u001b[0m\u001b[1;33m)\u001b[0m\u001b[1;33m)\u001b[0m \u001b[1;32mfor\u001b[0m \u001b[0mrow\u001b[0m \u001b[1;32min\u001b[0m \u001b[0mrange\u001b[0m\u001b[1;33m(\u001b[0m\u001b[1;36m4\u001b[0m\u001b[1;33m)\u001b[0m \u001b[1;32mif\u001b[0m \u001b[0mlen\u001b[0m\u001b[1;33m(\u001b[0m\u001b[0mmat\u001b[0m\u001b[1;33m[\u001b[0m\u001b[0mi\u001b[0m\u001b[1;33m]\u001b[0m\u001b[1;33m)\u001b[0m\u001b[1;33m==\u001b[0m\u001b[1;36m4\u001b[0m\u001b[1;33m]\u001b[0m\u001b[1;33m\u001b[0m\u001b[0m\n\u001b[0m\u001b[0;32m      2\u001b[0m \u001b[0mprint\u001b[0m\u001b[1;33m(\u001b[0m\u001b[0mmat\u001b[0m\u001b[1;33m,\u001b[0m\u001b[0mend\u001b[0m\u001b[1;33m=\u001b[0m\u001b[1;34m' '\u001b[0m\u001b[1;33m)\u001b[0m\u001b[1;33m\u001b[0m\u001b[0m\n",
      "\u001b[1;32m<ipython-input-94-7dcef26a8f24>\u001b[0m in \u001b[0;36m<listcomp>\u001b[1;34m(.0)\u001b[0m\n\u001b[1;32m----> 1\u001b[1;33m \u001b[0mmat\u001b[0m \u001b[1;33m=\u001b[0m \u001b[1;33m[\u001b[0m\u001b[0mlist\u001b[0m\u001b[1;33m(\u001b[0m\u001b[0mmap\u001b[0m\u001b[1;33m(\u001b[0m\u001b[0mint\u001b[0m\u001b[1;33m,\u001b[0m \u001b[0minput\u001b[0m\u001b[1;33m(\u001b[0m\u001b[1;33m)\u001b[0m\u001b[1;33m.\u001b[0m\u001b[0msplit\u001b[0m\u001b[1;33m(\u001b[0m\u001b[1;34m\" \"\u001b[0m\u001b[1;33m)\u001b[0m\u001b[1;33m)\u001b[0m\u001b[1;33m)\u001b[0m \u001b[1;32mfor\u001b[0m \u001b[0mrow\u001b[0m \u001b[1;32min\u001b[0m \u001b[0mrange\u001b[0m\u001b[1;33m(\u001b[0m\u001b[1;36m4\u001b[0m\u001b[1;33m)\u001b[0m \u001b[1;32mif\u001b[0m \u001b[0mlen\u001b[0m\u001b[1;33m(\u001b[0m\u001b[0mmat\u001b[0m\u001b[1;33m[\u001b[0m\u001b[0mi\u001b[0m\u001b[1;33m]\u001b[0m\u001b[1;33m)\u001b[0m\u001b[1;33m==\u001b[0m\u001b[1;36m4\u001b[0m\u001b[1;33m]\u001b[0m\u001b[1;33m\u001b[0m\u001b[0m\n\u001b[0m\u001b[0;32m      2\u001b[0m \u001b[0mprint\u001b[0m\u001b[1;33m(\u001b[0m\u001b[0mmat\u001b[0m\u001b[1;33m,\u001b[0m\u001b[0mend\u001b[0m\u001b[1;33m=\u001b[0m\u001b[1;34m' '\u001b[0m\u001b[1;33m)\u001b[0m\u001b[1;33m\u001b[0m\u001b[0m\n",
      "\u001b[1;31mIndexError\u001b[0m: list index out of range"
     ]
    }
   ],
   "source": [
    "mat = [list(map(int, input().split(\" \"))) for row in range(4)]\n",
    "print(mat,end=' ')"
   ]
  },
  {
   "cell_type": "code",
   "execution_count": 82,
   "metadata": {},
   "outputs": [
    {
     "name": "stdout",
     "output_type": "stream",
     "text": [
      "[0, 0, 0, 0]"
     ]
    }
   ],
   "source": [
    "sum=0\n",
    "li = [[i*j for j in range(4)] for i in range(3)]\n",
    "print(li[0], end='')"
   ]
  },
  {
   "cell_type": "code",
   "execution_count": 50,
   "metadata": {},
   "outputs": [
    {
     "name": "stdout",
     "output_type": "stream",
     "text": [
      "1 5 9 2 6 10 3 7 11 4 8 12 "
     ]
    }
   ],
   "source": [
    "li=[[1,2,3,4],[5,6,7,8],[9,10,11,12]]\n",
    "for j in range(4):\n",
    "    for ele in li:\n",
    "        print(ele[j],end = ' ')"
   ]
  },
  {
   "cell_type": "code",
   "execution_count": null,
   "metadata": {},
   "outputs": [
    {
     "name": "stdout",
     "output_type": "stream",
     "text": [
      "0\n"
     ]
    }
   ],
   "source": [
    "def rowWiseSum(mat, nRows, mCols):\n",
    "    #Your code goes here\n",
    "    a=list()\n",
    "    for i in range(nRows):\n",
    "        if s(mat[i],mCols):\n",
    "            sum=0\n",
    "            for j in range(mCols):\n",
    "                sum+=mat[i][j]\n",
    "            a.append(sum)\n",
    "        else:\n",
    "            a.clear()\n",
    "            break\n",
    "    print(max(a))\n",
    "\n",
    "def s(li,num):\n",
    "    if len(li)==num:\n",
    "        return True\n",
    "\n",
    "def take2DInput():\n",
    "    li = input().split(\" \")\n",
    "    nRows = int(li[0])\n",
    "    mCols = int(li[1])\n",
    "    \n",
    "    if nRows == 0 :\n",
    "        return list(), 0, 0\n",
    "    \n",
    "    mat = [list(map(int, input().strip().split(\" \"))) for row in range(nRows)]\n",
    "    return mat, nRows, mCols\n",
    "\n",
    "#main\n",
    "t = int(input())\n",
    "\n",
    "while t > 0 :\n",
    "\n",
    "    mat, nRows, mCols = take2DInput()\n",
    "    rowWiseSum(mat, nRows, mCols)\n",
    "    print()\n",
    "\n",
    "    t -= 1"
   ]
  },
  {
   "cell_type": "code",
   "execution_count": 4,
   "metadata": {},
   "outputs": [
    {
     "name": "stdout",
     "output_type": "stream",
     "text": [
      "1\n",
      "2 2\n",
      "1 1\n",
      "2 2\n",
      "row 1 4\n",
      "\n"
     ]
    }
   ],
   "source": [
    "def findLargest(mat, nRows, mCols):\n",
    "    #Your code goes here\n",
    "    max_sum=0\n",
    "    max_index=0\n",
    "    str1=''\n",
    "    for i in range(nRows):\n",
    "        if s(mat[i],mCols):\n",
    "            sum=0\n",
    "            for j in range(mCols):\n",
    "                sum+=mat[i][j]\n",
    "            if sum>max_sum:\n",
    "                max_sum=sum;\n",
    "                max_index=i\n",
    "                str1='row'\n",
    "    \n",
    "    for j in range(mCols):\n",
    "        if s(mat[j],nRows):\n",
    "            sum=0\n",
    "            for ele in mat:\n",
    "                sum+=ele[j]\n",
    "            if max_sum<sum:\n",
    "                max_sum=sum;\n",
    "                max_index=j\n",
    "                str1='column'\n",
    "    \n",
    "    print('{} {} {}'.format(str1, max_index, max_sum))\n",
    "         \n",
    "                \n",
    "\n",
    "def s(li,num):\n",
    "    if len(li)==num:\n",
    "        return True\n",
    "\n",
    "def take2DInput():\n",
    "    li = input().split(\" \")\n",
    "    nRows = int(li[0])\n",
    "    mCols = int(li[1])\n",
    "    \n",
    "    if nRows == 0 :\n",
    "        return list(), 0, 0\n",
    "    \n",
    "    mat = [list(map(int, input().strip().split(\" \"))) for row in range(nRows)]\n",
    "    return mat, nRows, mCols\n",
    "\n",
    "#main\n",
    "t = int(input())\n",
    "\n",
    "while t > 0 :\n",
    "\n",
    "    mat, nRows, mCols = take2DInput()\n",
    "    findLargest(mat, nRows, mCols)\n",
    "    print()\n",
    "\n",
    "    t -= 1"
   ]
  },
  {
   "cell_type": "code",
   "execution_count": 7,
   "metadata": {},
   "outputs": [
    {
     "ename": "NameError",
     "evalue": "name 'stdin' is not defined",
     "output_type": "error",
     "traceback": [
      "\u001b[1;31m---------------------------------------------------------------------------\u001b[0m",
      "\u001b[1;31mNameError\u001b[0m                                 Traceback (most recent call last)",
      "\u001b[1;32m<ipython-input-7-e0c3342b6cd9>\u001b[0m in \u001b[0;36m<module>\u001b[1;34m()\u001b[0m\n\u001b[0;32m     30\u001b[0m \u001b[1;33m\u001b[0m\u001b[0m\n\u001b[0;32m     31\u001b[0m \u001b[1;31m#main\u001b[0m\u001b[1;33m\u001b[0m\u001b[1;33m\u001b[0m\u001b[0m\n\u001b[1;32m---> 32\u001b[1;33m \u001b[0mt\u001b[0m \u001b[1;33m=\u001b[0m \u001b[0mint\u001b[0m\u001b[1;33m(\u001b[0m\u001b[0mstdin\u001b[0m\u001b[1;33m.\u001b[0m\u001b[0mreadline\u001b[0m\u001b[1;33m(\u001b[0m\u001b[1;33m)\u001b[0m\u001b[1;33m.\u001b[0m\u001b[0mrstrip\u001b[0m\u001b[1;33m(\u001b[0m\u001b[1;33m)\u001b[0m\u001b[1;33m)\u001b[0m\u001b[1;33m\u001b[0m\u001b[0m\n\u001b[0m\u001b[0;32m     33\u001b[0m \u001b[1;33m\u001b[0m\u001b[0m\n\u001b[0;32m     34\u001b[0m \u001b[1;32mwhile\u001b[0m \u001b[0mt\u001b[0m \u001b[1;33m>\u001b[0m \u001b[1;36m0\u001b[0m \u001b[1;33m:\u001b[0m\u001b[1;33m\u001b[0m\u001b[0m\n",
      "\u001b[1;31mNameError\u001b[0m: name 'stdin' is not defined"
     ]
    }
   ],
   "source": [
    "def wavePrint(mat, nRows, mCols):\n",
    "    #Your code goes here\n",
    "    t=0\n",
    "    j=0\n",
    "\n",
    "    while j<mCols:\n",
    "        if t==0:\n",
    "            for i in range(nRows):\n",
    "                print(mat[i][j],end=' ')\n",
    "            t=1\n",
    "            j+=1\n",
    "        else:\n",
    "            for i in range(nRows-1,-1,-1):\n",
    "                print(mat[i][j],end=' ')\n",
    "            t=0\n",
    "            j=j+1\n",
    "\t\n",
    "#Taking Iput Using Fast I/O\n",
    "def take2DInput() :\n",
    "    li = stdin.readline().rstrip().split(\" \")\n",
    "    nRows = int(li[0])\n",
    "    mCols = int(li[1])\n",
    "    \n",
    "    if nRows == 0 :\n",
    "        return list(), 0, 0\n",
    "    \n",
    "    mat = [list(map(int, input().strip().split())) for row in range(nRows)]\n",
    "    return mat, nRows, mCols\n",
    "\n",
    "\n",
    "#main\n",
    "t = int(stdin.readline().rstrip())\n",
    "\n",
    "while t > 0 :\n",
    "\n",
    "    mat, nRows, mCols = take2DInput()\n",
    "    wavePrint(mat, nRows, mCols)\n",
    "    print()\n",
    "\n",
    "    t -= 1"
   ]
  },
  {
   "cell_type": "code",
   "execution_count": 9,
   "metadata": {},
   "outputs": [
    {
     "data": {
      "text/plain": [
       "3"
      ]
     },
     "execution_count": 9,
     "metadata": {},
     "output_type": "execute_result"
    }
   ],
   "source": [
    "6//2"
   ]
  },
  {
   "cell_type": "code",
   "execution_count": 12,
   "metadata": {},
   "outputs": [
    {
     "name": "stdout",
     "output_type": "stream",
     "text": [
      "4\n",
      "1 2 3 4\n",
      "2\n",
      "1\n"
     ]
    },
    {
     "ename": "TypeError",
     "evalue": "object of type 'int' has no len()",
     "output_type": "error",
     "traceback": [
      "\u001b[1;31m---------------------------------------------------------------------------\u001b[0m",
      "\u001b[1;31mTypeError\u001b[0m                                 Traceback (most recent call last)",
      "\u001b[1;32m<ipython-input-12-69ff243d9cd6>\u001b[0m in \u001b[0;36m<module>\u001b[1;34m()\u001b[0m\n\u001b[0;32m     44\u001b[0m \u001b[1;33m\u001b[0m\u001b[0m\n\u001b[0;32m     45\u001b[0m     \u001b[0mx\u001b[0m \u001b[1;33m=\u001b[0m \u001b[0mint\u001b[0m\u001b[1;33m(\u001b[0m\u001b[0minput\u001b[0m\u001b[1;33m(\u001b[0m\u001b[1;33m)\u001b[0m\u001b[1;33m.\u001b[0m\u001b[0mstrip\u001b[0m\u001b[1;33m(\u001b[0m\u001b[1;33m)\u001b[0m\u001b[1;33m)\u001b[0m\u001b[1;33m\u001b[0m\u001b[0m\n\u001b[1;32m---> 46\u001b[1;33m     \u001b[0mprint\u001b[0m\u001b[1;33m(\u001b[0m\u001b[0mbinarySearch\u001b[0m\u001b[1;33m(\u001b[0m\u001b[0marr\u001b[0m\u001b[1;33m,\u001b[0m \u001b[0mn\u001b[0m\u001b[1;33m,\u001b[0m \u001b[0mx\u001b[0m\u001b[1;33m)\u001b[0m\u001b[1;33m)\u001b[0m\u001b[1;33m\u001b[0m\u001b[0m\n\u001b[0m\u001b[0;32m     47\u001b[0m \u001b[1;33m\u001b[0m\u001b[0m\n\u001b[0;32m     48\u001b[0m     \u001b[0mt\u001b[0m \u001b[1;33m-=\u001b[0m \u001b[1;36m1\u001b[0m\u001b[1;33m\u001b[0m\u001b[0m\n",
      "\u001b[1;32m<ipython-input-12-69ff243d9cd6>\u001b[0m in \u001b[0;36mbinarySearch\u001b[1;34m(arr, n, x)\u001b[0m\n\u001b[0;32m      5\u001b[0m     \u001b[0ml\u001b[0m\u001b[1;33m=\u001b[0m\u001b[0mlen\u001b[0m\u001b[1;33m(\u001b[0m\u001b[0marr\u001b[0m\u001b[1;33m)\u001b[0m\u001b[1;33m\u001b[0m\u001b[0m\n\u001b[0;32m      6\u001b[0m     \u001b[0mr\u001b[0m\u001b[1;33m=\u001b[0m\u001b[0ml\u001b[0m\u001b[1;33m-\u001b[0m\u001b[1;36m1\u001b[0m\u001b[1;33m\u001b[0m\u001b[0m\n\u001b[1;32m----> 7\u001b[1;33m     \u001b[1;32mif\u001b[0m \u001b[0ms\u001b[0m\u001b[1;33m(\u001b[0m\u001b[0ml\u001b[0m\u001b[1;33m,\u001b[0m\u001b[0mn\u001b[0m\u001b[1;33m)\u001b[0m\u001b[1;33m:\u001b[0m\u001b[1;33m\u001b[0m\u001b[0m\n\u001b[0m\u001b[0;32m      8\u001b[0m         \u001b[1;32mwhile\u001b[0m\u001b[1;33m(\u001b[0m\u001b[0mst\u001b[0m\u001b[1;33m<=\u001b[0m\u001b[0mlen\u001b[0m\u001b[1;33m(\u001b[0m\u001b[0marr\u001b[0m\u001b[1;33m)\u001b[0m\u001b[1;33m-\u001b[0m\u001b[1;36m1\u001b[0m \u001b[1;33m)\u001b[0m\u001b[1;33m:\u001b[0m\u001b[1;33m\u001b[0m\u001b[0m\n\u001b[0;32m      9\u001b[0m             \u001b[0mmid\u001b[0m\u001b[1;33m=\u001b[0m\u001b[1;33m(\u001b[0m\u001b[0mst\u001b[0m\u001b[1;33m+\u001b[0m\u001b[1;33m(\u001b[0m\u001b[0mr\u001b[0m\u001b[1;33m-\u001b[0m\u001b[1;36m1\u001b[0m\u001b[1;33m)\u001b[0m\u001b[1;33m)\u001b[0m\u001b[1;33m//\u001b[0m\u001b[1;36m2\u001b[0m\u001b[1;33m\u001b[0m\u001b[0m\n",
      "\u001b[1;32m<ipython-input-12-69ff243d9cd6>\u001b[0m in \u001b[0;36ms\u001b[1;34m(li, num)\u001b[0m\n\u001b[0;32m     21\u001b[0m \u001b[1;33m\u001b[0m\u001b[0m\n\u001b[0;32m     22\u001b[0m \u001b[1;32mdef\u001b[0m \u001b[0ms\u001b[0m\u001b[1;33m(\u001b[0m\u001b[0mli\u001b[0m\u001b[1;33m,\u001b[0m\u001b[0mnum\u001b[0m\u001b[1;33m)\u001b[0m\u001b[1;33m:\u001b[0m\u001b[1;33m\u001b[0m\u001b[0m\n\u001b[1;32m---> 23\u001b[1;33m     \u001b[1;32mif\u001b[0m \u001b[0mlen\u001b[0m\u001b[1;33m(\u001b[0m\u001b[0mli\u001b[0m\u001b[1;33m)\u001b[0m\u001b[1;33m==\u001b[0m\u001b[0mnum\u001b[0m\u001b[1;33m:\u001b[0m\u001b[1;33m\u001b[0m\u001b[0m\n\u001b[0m\u001b[0;32m     24\u001b[0m         \u001b[1;32mreturn\u001b[0m \u001b[1;32mTrue\u001b[0m\u001b[1;33m\u001b[0m\u001b[0m\n\u001b[0;32m     25\u001b[0m \u001b[1;33m\u001b[0m\u001b[0m\n",
      "\u001b[1;31mTypeError\u001b[0m: object of type 'int' has no len()"
     ]
    }
   ],
   "source": [
    "def binarySearch(arr, n, x) :\n",
    "    #Your code goes here\n",
    "    mid=0\n",
    "    st=0\n",
    "    l=len(arr)\n",
    "    r=l-1\n",
    "    if s(l,n):\n",
    "        while(st<=len(arr)-1 ):\n",
    "            mid=(st+(r-1))//2\n",
    "            if arr[mid]==x:\n",
    "                return mid\n",
    "            \n",
    "            elif arr[mid]>x:\n",
    "                r=mid-1\n",
    "            \n",
    "            else:\n",
    "                st=mid+1\n",
    "        \n",
    "        return -1\n",
    "\n",
    "\n",
    "def s(l,n):\n",
    "    if len(l)==n:\n",
    "        return True\n",
    "\n",
    "\n",
    "\n",
    "#Taking Input Using Fast I/O\n",
    "def takeInput() :\n",
    "    n = int(input().strip())\n",
    "    \n",
    "    if n == 0 :\n",
    "        return list(), 0\n",
    "\n",
    "    arr = list(map(int, input().split(\" \")))\n",
    "    return arr, n\n",
    "\n",
    "\n",
    "#main\n",
    "arr, n = takeInput()\n",
    "t = int(input().strip())\n",
    "\n",
    "while t > 0 :\n",
    "    \n",
    "    x = int(input().strip())    \n",
    "    print(binarySearch(arr, n, x))\n",
    "\n",
    "    t -= 1"
   ]
  },
  {
   "cell_type": "code",
   "execution_count": 13,
   "metadata": {},
   "outputs": [
    {
     "name": "stdout",
     "output_type": "stream",
     "text": [
      "1\n",
      "7\n",
      "2 0 0 3 1 0 0\n",
      "2 3 1 0 0 0 0 \n"
     ]
    }
   ],
   "source": [
    "def pushZerosAtEnd(arr, n) :\n",
    "    #Your code goes here\n",
    "    count=0\n",
    "    j=0\n",
    "    if len(arr)==n:\n",
    "        for i in range(len(arr)):\n",
    "            if arr[i] != 0:\n",
    "                arr[j]=arr[i]\n",
    "                j +=1\n",
    "            else:\n",
    "                count=count+1\n",
    "        \n",
    "        while count !=0:\n",
    "            arr[j]=0\n",
    "            j+=1\n",
    "            count -=1\n",
    "                 \n",
    "                \n",
    "        \n",
    "        \n",
    "#Taking Input Using Fast I/O\n",
    "def takeInput() :\n",
    "    n = int(input())\n",
    "\n",
    "    if n == 0:\n",
    "        return list(), 0\n",
    "    \n",
    "    arr = list(map(int, input().split()))\n",
    "    return arr, n\n",
    "  \n",
    "\n",
    "#to print the array/list\n",
    "def printList(arr, n) : \n",
    "    for i in range(n) :\n",
    "        print(arr[i], end = \" \")\n",
    "\n",
    "    print()\n",
    "\n",
    "\n",
    "#main\n",
    "t = int(input())\n",
    "\n",
    "while t > 0 :\n",
    "\n",
    "    arr, n = takeInput()\n",
    "\n",
    "    pushZerosAtEnd(arr, n)\n",
    "    printList(arr, n)\n",
    "\n",
    "    t -= 1"
   ]
  },
  {
   "cell_type": "code",
   "execution_count": 26,
   "metadata": {},
   "outputs": [],
   "source": [
    "a=[1, 2, 9, 5, 7, 6]"
   ]
  },
  {
   "cell_type": "code",
   "execution_count": 27,
   "metadata": {},
   "outputs": [],
   "source": [
    "a.sort()"
   ]
  },
  {
   "cell_type": "code",
   "execution_count": 28,
   "metadata": {},
   "outputs": [
    {
     "data": {
      "text/plain": [
       "[1, 2, 5, 6, 7, 9]"
      ]
     },
     "execution_count": 28,
     "metadata": {},
     "output_type": "execute_result"
    }
   ],
   "source": [
    "a"
   ]
  },
  {
   "cell_type": "code",
   "execution_count": 22,
   "metadata": {},
   "outputs": [
    {
     "name": "stdout",
     "output_type": "stream",
     "text": [
      "1\n",
      "7\n",
      "1 2 3 4 5 6 7\n",
      "1\n",
      "2 3 4 5 6 7 1 \n"
     ]
    }
   ],
   "source": [
    "def rotate(arr, n, d):\n",
    "    #Your code goes here\n",
    "    count=0\n",
    "    if len(arr)==n:\n",
    "        while count !=d:\n",
    "            arr.append(arr.pop(0))\n",
    "            count=count+1\n",
    "\n",
    "\n",
    "\n",
    "\n",
    "#Taking Input Using Fats I/O\n",
    "def takeInput() :\n",
    "    n = int(input())\n",
    "    if n == 0:\n",
    "        return list(), 0\n",
    "\n",
    "    arr = list(map(int, input().split(\" \")))\n",
    "    return arr, n\n",
    "\n",
    "\n",
    "#to print the array/list \n",
    "def printList(arr, n) : \n",
    "    for i in range(n) :\n",
    "        print(arr[i], end = \" \")\n",
    "    print()\n",
    "\n",
    "\n",
    "#main\n",
    "t = int(input())\n",
    "\n",
    "while t > 0 :\n",
    "    \n",
    "    arr, n = takeInput()\n",
    "    d = int(input())\n",
    "    rotate(arr, n, d)\n",
    "    printList(arr, n)\n",
    "    \n",
    "    t -= 1"
   ]
  },
  {
   "cell_type": "code",
   "execution_count": 1,
   "metadata": {},
   "outputs": [
    {
     "ename": "SyntaxError",
     "evalue": "invalid syntax (<ipython-input-1-54b02b6a3e1a>, line 3)",
     "output_type": "error",
     "traceback": [
      "\u001b[1;36m  File \u001b[1;32m\"<ipython-input-1-54b02b6a3e1a>\"\u001b[1;36m, line \u001b[1;32m3\u001b[0m\n\u001b[1;33m    for\u001b[0m\n\u001b[1;37m        ^\u001b[0m\n\u001b[1;31mSyntaxError\u001b[0m\u001b[1;31m:\u001b[0m invalid syntax\n"
     ]
    }
   ],
   "source": [
    "def rotate(arr, n, d):\n",
    "    #Your code goes here\n",
    "    for \n",
    "    \n",
    "\n",
    "\n",
    "\n",
    "\n",
    "#Taking Input Using Fats I/O\n",
    "def takeInput() :\n",
    "    n = int(input())\n",
    "    if n == 0:\n",
    "        return list(), 0\n",
    "\n",
    "    arr = list(map(int, input().split(\" \")))\n",
    "    return arr, n\n",
    "\n",
    "\n",
    "#to print the array/list \n",
    "def printList(arr, n) : \n",
    "    for i in range(n) :\n",
    "        print(arr[i], end = \" \")\n",
    "    print()\n",
    "\n",
    "\n",
    "#main\n",
    "t = int(input())\n",
    "\n",
    "while t > 0 :\n",
    "    \n",
    "    arr, n = takeInput()\n",
    "    d = int(input())\n",
    "    rotate(arr, n, d)\n",
    "    printList(arr, n)\n",
    "    \n",
    "    t -= 1"
   ]
  },
  {
   "cell_type": "code",
   "execution_count": 2,
   "metadata": {},
   "outputs": [
    {
     "data": {
      "text/plain": [
       "31"
      ]
     },
     "execution_count": 2,
     "metadata": {},
     "output_type": "execute_result"
    }
   ],
   "source": [
    "28 ^ 3"
   ]
  },
  {
   "cell_type": "code",
   "execution_count": 3,
   "metadata": {},
   "outputs": [
    {
     "data": {
      "text/plain": [
       "1"
      ]
     },
     "execution_count": 3,
     "metadata": {},
     "output_type": "execute_result"
    }
   ],
   "source": [
    "2^3"
   ]
  },
  {
   "cell_type": "code",
   "execution_count": 1,
   "metadata": {},
   "outputs": [],
   "source": [
    "a=\"Accenture is an mnc company\""
   ]
  },
  {
   "cell_type": "code",
   "execution_count": 2,
   "metadata": {},
   "outputs": [
    {
     "data": {
      "text/plain": [
       "'Accenture is an mnc company'"
      ]
     },
     "execution_count": 2,
     "metadata": {},
     "output_type": "execute_result"
    }
   ],
   "source": [
    "a"
   ]
  },
  {
   "cell_type": "code",
   "execution_count": 3,
   "metadata": {},
   "outputs": [
    {
     "name": "stdout",
     "output_type": "stream",
     "text": [
      "ynapmoc cnm na si erutneccA\n"
     ]
    }
   ],
   "source": [
    "print(a[::-1])"
   ]
  },
  {
   "cell_type": "code",
   "execution_count": 7,
   "metadata": {},
   "outputs": [],
   "source": [
    "b=a.split()"
   ]
  },
  {
   "cell_type": "code",
   "execution_count": 6,
   "metadata": {},
   "outputs": [
    {
     "data": {
      "text/plain": [
       "'Accenture is an mnc company'"
      ]
     },
     "execution_count": 6,
     "metadata": {},
     "output_type": "execute_result"
    }
   ],
   "source": [
    "a"
   ]
  },
  {
   "cell_type": "code",
   "execution_count": 8,
   "metadata": {},
   "outputs": [
    {
     "data": {
      "text/plain": [
       "['Accenture', 'is', 'an', 'mnc', 'company']"
      ]
     },
     "execution_count": 8,
     "metadata": {},
     "output_type": "execute_result"
    }
   ],
   "source": [
    "b"
   ]
  },
  {
   "cell_type": "code",
   "execution_count": 13,
   "metadata": {},
   "outputs": [
    {
     "name": "stdout",
     "output_type": "stream",
     "text": [
      "['erutneccA', 'si', 'na', 'cnm', 'ynapmoc']\n",
      "erutneccA si na cnm ynapmoc\n"
     ]
    }
   ],
   "source": [
    "c=list()\n",
    "for i in b:\n",
    "    c.append(i[::-1])\n",
    "\n",
    "print(c)\n",
    "d= ' '.join(c)\n",
    "print(d)"
   ]
  },
  {
   "cell_type": "code",
   "execution_count": 6,
   "metadata": {},
   "outputs": [
    {
     "data": {
      "text/plain": [
       "Counter({'How': 1,\n",
       "         'many': 1,\n",
       "         'times': 2,\n",
       "         'does': 1,\n",
       "         'each': 3,\n",
       "         'word': 3,\n",
       "         'show': 1,\n",
       "         'up': 1,\n",
       "         'in': 1,\n",
       "         'this': 1,\n",
       "         'sentence': 1})"
      ]
     },
     "execution_count": 6,
     "metadata": {},
     "output_type": "execute_result"
    }
   ],
   "source": [
    "from collections import Counter\n",
    "\n",
    "s = 'How many times does each word show up in this sentence word times each each word'\n",
    "\n",
    "words = s.split()\n",
    "\n",
    "Counter(words)"
   ]
  },
  {
   "cell_type": "code",
   "execution_count": 19,
   "metadata": {},
   "outputs": [
    {
     "data": {
      "text/plain": [
       "[('each', 3), ('word', 3), ('times', 2), ('How', 1)]"
      ]
     },
     "execution_count": 19,
     "metadata": {},
     "output_type": "execute_result"
    }
   ],
   "source": [
    "c = Counter(words)\n",
    "\n",
    "c.most_common(4)"
   ]
  },
  {
   "cell_type": "code",
   "execution_count": 3,
   "metadata": {},
   "outputs": [
    {
     "data": {
      "text/plain": [
       "16"
      ]
     },
     "execution_count": 3,
     "metadata": {},
     "output_type": "execute_result"
    }
   ],
   "source": [
    "sum(c.values())"
   ]
  },
  {
   "cell_type": "code",
   "execution_count": 4,
   "metadata": {},
   "outputs": [],
   "source": [
    "c.clear()"
   ]
  },
  {
   "cell_type": "code",
   "execution_count": 10,
   "metadata": {},
   "outputs": [
    {
     "data": {
      "text/plain": [
       "['How',\n",
       " 'many',\n",
       " 'times',\n",
       " 'does',\n",
       " 'each',\n",
       " 'word',\n",
       " 'show',\n",
       " 'up',\n",
       " 'in',\n",
       " 'this',\n",
       " 'sentence']"
      ]
     },
     "execution_count": 10,
     "metadata": {},
     "output_type": "execute_result"
    }
   ],
   "source": [
    "list(c)"
   ]
  },
  {
   "cell_type": "code",
   "execution_count": 11,
   "metadata": {},
   "outputs": [
    {
     "data": {
      "text/plain": [
       "{'How',\n",
       " 'does',\n",
       " 'each',\n",
       " 'in',\n",
       " 'many',\n",
       " 'sentence',\n",
       " 'show',\n",
       " 'this',\n",
       " 'times',\n",
       " 'up',\n",
       " 'word'}"
      ]
     },
     "execution_count": 11,
     "metadata": {},
     "output_type": "execute_result"
    }
   ],
   "source": [
    "set(c)"
   ]
  },
  {
   "cell_type": "code",
   "execution_count": 13,
   "metadata": {},
   "outputs": [
    {
     "data": {
      "text/plain": [
       "{'How': 1,\n",
       " 'many': 1,\n",
       " 'times': 2,\n",
       " 'does': 1,\n",
       " 'each': 3,\n",
       " 'word': 3,\n",
       " 'show': 1,\n",
       " 'up': 1,\n",
       " 'in': 1,\n",
       " 'this': 1,\n",
       " 'sentence': 1}"
      ]
     },
     "execution_count": 13,
     "metadata": {},
     "output_type": "execute_result"
    }
   ],
   "source": [
    "dict(c)"
   ]
  },
  {
   "cell_type": "code",
   "execution_count": 14,
   "metadata": {},
   "outputs": [
    {
     "data": {
      "text/plain": [
       "dict_items([('How', 1), ('many', 1), ('times', 2), ('does', 1), ('each', 3), ('word', 3), ('show', 1), ('up', 1), ('in', 1), ('this', 1), ('sentence', 1)])"
      ]
     },
     "execution_count": 14,
     "metadata": {},
     "output_type": "execute_result"
    }
   ],
   "source": [
    "c.items()"
   ]
  },
  {
   "cell_type": "code",
   "execution_count": 15,
   "metadata": {},
   "outputs": [],
   "source": [
    "c += Counter()"
   ]
  },
  {
   "cell_type": "code",
   "execution_count": 16,
   "metadata": {},
   "outputs": [
    {
     "data": {
      "text/plain": [
       "Counter({'How': 1,\n",
       "         'many': 1,\n",
       "         'times': 2,\n",
       "         'does': 1,\n",
       "         'each': 3,\n",
       "         'word': 3,\n",
       "         'show': 1,\n",
       "         'up': 1,\n",
       "         'in': 1,\n",
       "         'this': 1,\n",
       "         'sentence': 1})"
      ]
     },
     "execution_count": 16,
     "metadata": {},
     "output_type": "execute_result"
    }
   ],
   "source": [
    "c"
   ]
  },
  {
   "cell_type": "code",
   "execution_count": 20,
   "metadata": {},
   "outputs": [],
   "source": [
    "from collections import defaultdict"
   ]
  },
  {
   "cell_type": "code",
   "execution_count": 27,
   "metadata": {},
   "outputs": [],
   "source": [
    "d  = defaultdict(lambda: 0)"
   ]
  },
  {
   "cell_type": "code",
   "execution_count": 28,
   "metadata": {},
   "outputs": [
    {
     "data": {
      "text/plain": [
       "0"
      ]
     },
     "execution_count": 28,
     "metadata": {},
     "output_type": "execute_result"
    }
   ],
   "source": [
    "d['one'] "
   ]
  },
  {
   "cell_type": "code",
   "execution_count": 2,
   "metadata": {},
   "outputs": [
    {
     "name": "stdout",
     "output_type": "stream",
     "text": [
      "[1, 2, 3, 6]\n"
     ]
    }
   ],
   "source": [
    "string = \"s1ddhar23@6th\"\n",
    "digits = [int(d) for d in string if d.isdigit()]\n",
    "print(digits)"
   ]
  },
  {
   "cell_type": "code",
   "execution_count": 2,
   "metadata": {},
   "outputs": [
    {
     "name": "stdout",
     "output_type": "stream",
     "text": [
      "[11, 13, 17, 19, 23, 29, 31, 37, 41, 43, 47, 53, 59, 61, 67, 71, 73, 79, 83, 89, 97]\n",
      "11 13 17 23 31 37 53 71 73 "
     ]
    }
   ],
   "source": [
    "# Find the primes between 10 and 99 where the individual digits are also primes.\n",
    "li = []\n",
    "for n in range(10, 99):\n",
    "    flag = 1\n",
    "    for i in range(2, n // 2 + 1):\n",
    "        if n % i == 0:\n",
    "            flag = 0\n",
    "            break\n",
    "\n",
    "    if flag == 1:\n",
    "        li.append(n)\n",
    "\n",
    "print(li)\n",
    "for j in range(len(li)):\n",
    "    num=li[j]\n",
    "\n",
    "# print(li)\n",
    "    while num != 0:\n",
    "        a = num % 10\n",
    "        for k in range(2, a // 2 + 1):\n",
    "            if a == 2 or a == 1:\n",
    "                continue\n",
    "            if a % k == 0:\n",
    "                li[j]=0\n",
    "                break\n",
    "\n",
    "        num = num // 10\n",
    "        k=2\n",
    "\n",
    "\n",
    "for m in range(len(li)):\n",
    "    if li[m] !=0:\n",
    "        print(li[m], end=' ')"
   ]
  },
  {
   "cell_type": "code",
   "execution_count": 4,
   "metadata": {},
   "outputs": [
    {
     "name": "stdout",
     "output_type": "stream",
     "text": [
      "4\n",
      "1 2 4 5 6 7 43\n",
      "[1, 2, 4, 5, 6, 7, 43]\n"
     ]
    }
   ],
   "source": [
    "def takeInput():\n",
    "    n = int(input())\n",
    "    if n == 0:\n",
    "        return list(), 0\n",
    "\n",
    "    arr = list(map(int, input().split(\" \")))\n",
    "    return arr, n\n",
    "\n",
    "    \n",
    "arr, n = takeInput()\n",
    "print(arr)"
   ]
  },
  {
   "cell_type": "code",
   "execution_count": 4,
   "metadata": {},
   "outputs": [
    {
     "name": "stdout",
     "output_type": "stream",
     "text": [
      "[1]\n",
      "[1, 1]\n"
     ]
    }
   ],
   "source": [
    "def foo(li=[]):\n",
    "    li.append(1)\n",
    "    return li\n",
    "\n",
    "print(foo())\n",
    "print(foo())"
   ]
  }
 ],
 "metadata": {
  "kernelspec": {
   "display_name": "Python 3",
   "language": "python",
   "name": "python3"
  },
  "language_info": {
   "codemirror_mode": {
    "name": "ipython",
    "version": 3
   },
   "file_extension": ".py",
   "mimetype": "text/x-python",
   "name": "python",
   "nbconvert_exporter": "python",
   "pygments_lexer": "ipython3",
   "version": "3.8.5"
  }
 },
 "nbformat": 4,
 "nbformat_minor": 2
}
